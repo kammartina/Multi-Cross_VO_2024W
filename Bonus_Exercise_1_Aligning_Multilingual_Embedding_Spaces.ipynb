{
  "nbformat": 4,
  "nbformat_minor": 0,
  "metadata": {
    "colab": {
      "provenance": [],
      "gpuType": "T4"
    },
    "kernelspec": {
      "name": "python3",
      "display_name": "Python 3"
    },
    "language_info": {
      "name": "python"
    },
    "accelerator": "GPU"
  },
  "cells": [
    {
      "cell_type": "markdown",
      "source": [
        "# **Bonus Exercises 1: Aligning Multilingual Embedding Spaces**\n",
        "\n",
        "\n",
        "\n",
        "This notebook represents the first bonus exercises for the lecture Multilingual and Crosslingual Methods and Language Resources (2024W 340168-1). For each successfully completed bonus exercise, a maximum of three points can be achieved that will be added to the points of the final exam. The tasks to be completed in the following notebook are marked with 👋 ⚒.\n"
      ],
      "metadata": {
        "id": "H_RsHNVC57Tf"
      }
    },
    {
      "cell_type": "markdown",
      "source": [
        "\n",
        "In this notebook, you will perform and evaluate a supervised method for aligning the embedding spaces of two languages. The examples in the notebook rely on the language pair English-German, however, feel free to change this pair to languages of your choice from the available embeddings and dictionaries (see below)."
      ],
      "metadata": {
        "id": "UADeK6Y-6Zk3"
      }
    },
    {
      "cell_type": "markdown",
      "source": [
        "-----------\n",
        "## **Preparing the Embeddings and Data**\n",
        "\n",
        "In this notebook, we will be using fastText embeddings that represents a character-based version of the word2vec skipgram method. Details on the method can be found in the [original publication](https://aclanthology.org/Q17-1010.pdf) and [this website](https://fasttext.cc/).\n",
        "\n",
        "Pretrained fastText embeddings are available in [157 languages](https://fasttext.cc/docs/en/crawl-vectors.html). The following code cell loads the fastText embeddings for English and German.\n",
        "\n",
        "👋 ⚒ Please change the following download command if you wish to align other languages than English and German.\n",
        "\n",
        "Before you decide on a final language pair, please make sure that:\n",
        "1.   There are pretrained embeddings for this language (see [here](https://fasttext.cc/docs/en/crawl-vectors.html))\n",
        "2.   There is a bilingual word list available (see the [MUSE GitHub](https://github.com/facebookresearch/MUSE/tree/main) section \"Ground-truth bilingual dictionaries\")\n",
        "\n",
        "If the embeddings are available, change the two-digit ISO code in `cc.en.300.vec.g` and `cc.de.300.vec.gz` to the language(s) of your choice."
      ],
      "metadata": {
        "id": "lmoyUnpZKmma"
      }
    },
    {
      "cell_type": "code",
      "source": [
        "!wget https://dl.fbaipublicfiles.com/fasttext/vectors-crawl/cc.en.300.vec.gz  # English\n",
        "!wget https://dl.fbaipublicfiles.com/fasttext/vectors-crawl/cc.de.300.vec.gz  # German"
      ],
      "metadata": {
        "id": "DkTFQP9X-IU5",
        "collapsed": true,
        "colab": {
          "base_uri": "https://localhost:8080/"
        },
        "outputId": "2c3e5900-9eaa-4d63-d609-46c6e9744701"
      },
      "execution_count": null,
      "outputs": [
        {
          "output_type": "stream",
          "name": "stdout",
          "text": [
            "--2025-01-19 14:17:10--  https://dl.fbaipublicfiles.com/fasttext/vectors-crawl/cc.en.300.vec.gz\n",
            "Resolving dl.fbaipublicfiles.com (dl.fbaipublicfiles.com)... 18.155.173.40, 18.155.173.80, 18.155.173.116, ...\n",
            "Connecting to dl.fbaipublicfiles.com (dl.fbaipublicfiles.com)|18.155.173.40|:443... connected.\n",
            "HTTP request sent, awaiting response... 200 OK\n",
            "Length: 1325960915 (1.2G) [binary/octet-stream]\n",
            "Saving to: ‘cc.en.300.vec.gz’\n",
            "\n",
            "cc.en.300.vec.gz    100%[===================>]   1.23G  42.1MB/s    in 30s     \n",
            "\n",
            "2025-01-19 14:17:40 (42.6 MB/s) - ‘cc.en.300.vec.gz’ saved [1325960915/1325960915]\n",
            "\n",
            "--2025-01-19 14:17:40--  https://dl.fbaipublicfiles.com/fasttext/vectors-crawl/cc.de.300.vec.gz\n",
            "Resolving dl.fbaipublicfiles.com (dl.fbaipublicfiles.com)... 13.226.210.25, 13.226.210.78, 13.226.210.111, ...\n",
            "Connecting to dl.fbaipublicfiles.com (dl.fbaipublicfiles.com)|13.226.210.25|:443... connected.\n",
            "HTTP request sent, awaiting response... 200 OK\n",
            "Length: 1278030050 (1.2G) [binary/octet-stream]\n",
            "Saving to: ‘cc.de.300.vec.gz’\n",
            "\n",
            "cc.de.300.vec.gz    100%[===================>]   1.19G   196MB/s    in 6.3s    \n",
            "\n",
            "2025-01-19 14:17:46 (193 MB/s) - ‘cc.de.300.vec.gz’ saved [1278030050/1278030050]\n",
            "\n"
          ]
        }
      ]
    },
    {
      "cell_type": "markdown",
      "source": [
        "### Loading the Embeddings\n",
        "\n",
        "As a next step we will unzip and load the embeddings. For this alignment task, we will only use the top 100,000 words for both languages to speed up the processing. This choice of only using the top 100,000 words also depends on the lenght of the available bilingual word lists."
      ],
      "metadata": {
        "id": "r9LI8R2Q9bPQ"
      }
    },
    {
      "cell_type": "code",
      "execution_count": null,
      "metadata": {
        "id": "HQFF13y09xgT",
        "colab": {
          "base_uri": "https://localhost:8080/"
        },
        "outputId": "255e3460-75b6-40d2-ce60-0dd8f7f8b9bf"
      },
      "outputs": [
        {
          "output_type": "stream",
          "name": "stdout",
          "text": [
            "Loaded 100000 English embeddings\n",
            "Loaded 100000 German embeddings\n"
          ]
        }
      ],
      "source": [
        "import gzip\n",
        "import numpy as np\n",
        "\n",
        "def load_fasttext_embeddings(file_path, top_n):\n",
        "    embeddings = {}\n",
        "    with gzip.open(file_path, 'rb') as f:\n",
        "        for i, line in enumerate(f):\n",
        "            # Line 0 is a header line\n",
        "            if i > 0 and i <= top_n:\n",
        "              tokens = line.decode('utf-8').strip().split(' ')\n",
        "              word = tokens[0]\n",
        "              vector = np.array(tokens[1:], dtype=np.float32)\n",
        "              vector = vector / np.linalg.norm(vector)\n",
        "              embeddings[word] = vector\n",
        "    return embeddings\n",
        "\n",
        "# Load the top English and German embeddings for the top 100,000 words (100000)\n",
        "# FastText sorts the embeddings by decreasing order of word frequency by default\n",
        "# --> it normalizes each word vector to have a unit norm for consistency across languages\n",
        "en_embeddings = load_fasttext_embeddings('cc.en.300.vec.gz', 100000)\n",
        "de_embeddings = load_fasttext_embeddings('cc.de.300.vec.gz', 100000)\n",
        "\n",
        "print(f\"Loaded {len(en_embeddings)} English embeddings\")\n",
        "print(f\"Loaded {len(de_embeddings)} German embeddings\")\n"
      ]
    },
    {
      "cell_type": "markdown",
      "source": [
        "Let us explore the format of the downloaded and loaded embeddings."
      ],
      "metadata": {
        "id": "yhaTWGHKEr1z"
      }
    },
    {
      "cell_type": "code",
      "source": [
        "print(f'The loaded embeddings represent a {type(en_embeddings)} datatype.\\n')\n",
        "print(f'Each entry represents the word and the related embedding.\\n')\n",
        "print(f'We can query the word as a key and obtain the embedding, e.g. for good the embedding is {en_embeddings[\"good\"]}.\\n')\n",
        "print(f'The dimensionality of these embeddings corresponds to {len(en_embeddings[\"good\"])}.')"
      ],
      "metadata": {
        "id": "Xb5dngocEwxW",
        "colab": {
          "base_uri": "https://localhost:8080/"
        },
        "outputId": "24be6d44-8012-4f4d-d4ba-cc1047865975"
      },
      "execution_count": null,
      "outputs": [
        {
          "output_type": "stream",
          "name": "stdout",
          "text": [
            "The loaded embeddings represent a <class 'dict'> datatype.\n",
            "\n",
            "Each entry represents the word and the related embedding.\n",
            "\n",
            "We can query the word as a key and obtain the embedding, e.g. for good the embedding is [-0.08404064 -0.05785208  0.00155124  0.1233691  -0.05985956  0.00565746\n",
            "  0.11506542 -0.01505614  0.01587738 -0.00118624 -0.0886031   0.02126109\n",
            "  0.00912493  0.00419747  0.01450865  0.0062962   0.07829193 -0.01815862\n",
            " -0.0549321  -0.02126109  0.01076742  0.07500695  0.01359615  0.00821244\n",
            "  0.00638745 -0.05867332  0.03056853 -0.01916236  0.0617758   0.0275573\n",
            "  0.06569952 -0.05192087 -0.03987596  0.00583996  0.04005846  0.05520585\n",
            " -0.00556621 -0.11187168 -0.03221102 -0.02463732 -0.01879736  0.0068437\n",
            " -0.0062962   0.03312351 -0.03020353  0.05292461  0.00757369 -0.05785208\n",
            " -0.05274212  0.00994618 -0.08440564  0.0142349  -0.03722973  0.00611371\n",
            " -0.05812582  0.05365461  0.06579077 -0.04918339 -0.13377152 -0.03695598\n",
            " -0.02290358 -0.04516842 -0.04763215 -0.06250579  0.04261344  0.00419747\n",
            " -0.0686195   0.03312351 -0.06369203  0.01596863 -0.03129852 -0.03941971\n",
            "  0.00693495  0.05192087  0.00583996 -0.00985493  0.02126109  0.06341828\n",
            "  0.04900089  0.02308608  0.03932846 -0.03011228 -0.01158867  0.02627981\n",
            "  0.01049367 -0.02764855  0.02564106  0.08449689  0.08130316  0.2001098\n",
            "  0.03503975  0.04580717  0.12519409 -0.00784744 -0.01040242  0.09708929\n",
            " -0.07199573  0.07327322 -0.00401497 -0.04443843  0.00164249  0.06095456\n",
            "  0.00912493  0.02746605 -0.02728355  0.02290358 -0.03951096 -0.00547496\n",
            " -0.00301123 -0.0477234  -0.02992978  0.10959045  0.01067617 -0.03148102\n",
            "  0.01742862 -0.01149742 -0.01852362  0.01706363  0.04580717  0.05109963\n",
            "  0.04535092  0.03284976 -0.0062962   0.05228587  0.05429336  0.02381608\n",
            "  0.01578614 -0.0064787  -0.11816789  0.01459989  0.00136874 -0.03312351\n",
            " -0.00428872  0.02025735 -0.00638745 -0.02637106  0.03567849  0.03659099\n",
            " -0.03595224 -0.02418107 -0.04306969  0.02436357  0.06834576  0.02865229\n",
            " -0.06414828 -0.03868972 -0.18742613 -0.0828544  -0.01021993  0.05036963\n",
            " -0.10876921  0.0072087  -0.1226391  -0.01359615 -0.01907111  0.08449689\n",
            "  0.05739583 -0.02007485 -0.03339726  0.02363358  0.0408797  -0.01177116\n",
            " -0.03193727 -0.02244734 -0.04334343  0.00118624  0.01049367 -0.00483621\n",
            "  0.10183425  0.02317733 -0.03321476 -0.05411086 -0.00501871  0.0068437\n",
            " -0.01177116 -0.06560828 -0.02272109 -0.04334343  0.00173374 -0.10411549\n",
            "  0.01505614  0.04635466 -0.02445482 -0.04352593  0.00474497  0.03741223\n",
            "  0.02472857 -0.05940332 -0.06068081 -0.07281698  0.04489467  0.04909214\n",
            "  0.01834112 -0.03467475 -0.02290358  0.00374122 -0.04115345 -0.04297844\n",
            " -0.00510996  0.11926289 -0.08714312  0.15156515  0.02025735 -0.05374586\n",
            " -0.01943611  0.00392372 -0.05055213 -0.05739583 -0.04982214  0.10594048\n",
            "  0.11351417 -0.00675245  0.01605988 -0.00693495 -0.05128213 -0.01532989\n",
            "  0.07281698 -0.03695598  0.06579077  0.12154412  0.06487828 -0.0131399\n",
            "  0.02335983  0.05192087 -0.00830369 -0.00574871  0.03330601  0.0062962\n",
            "  0.0406972   0.01678988  0.00200749 -0.01907111  0.07208697 -0.05119088\n",
            "  0.02317733 -0.08823811 -0.03357976  0.01487364  0.00830369 -0.05602709\n",
            "  0.04982214 -0.03513099  0.0275573  -0.12930031  0.15631011 -0.04963964\n",
            " -0.00985493  0.04279594 -0.02637106 -0.02491107  0.08887686 -0.12245662\n",
            " -0.01843237 -0.04325218 -0.02956478  0.00492746 -0.03960221 -0.00027375\n",
            "  0.15348138  0.02837854 -0.0279223  -0.00045625  0.04279594  0.102838\n",
            " -0.12519409  0.05237712  0.00729995 -0.1581351   0.02783105 -0.11570416\n",
            " -0.05538835 -0.03503975 -0.01587738  0.11223669 -0.04854465 -0.06944074\n",
            "  0.01943611  0.01113242 -0.01177116  0.07017074 -0.24427445  0.04854465\n",
            " -0.11506542 -0.02564106  0.07281698 -0.02664481 -0.01615113 -0.09444306\n",
            " -0.04297844 -0.02764855  0.07792693  0.02673606 -0.10210801 -0.00127749\n",
            "  0.0345835   0.02226484 -0.01277491  0.12920906 -0.04671966 -0.08084691].\n",
            "\n",
            "The dimensionality of these embeddings corresponds to 300.\n"
          ]
        }
      ]
    },
    {
      "cell_type": "markdown",
      "source": [
        "### Downloading and Loading the Bilingual Word List\n",
        "\n",
        "To perform this alignment, we will use a bilingual word list that is provided by the Multilingual Unsupervised and Supervised Embeddings (MUSE) project (see [here](https://github.com/facebookresearch/MUSE/tree/main) for all languages).\n",
        "\n",
        "👋 ⚒ Please change the following downloading command to the language pair of your choice (as long as available on MUSE).\n"
      ],
      "metadata": {
        "id": "0TBkmAvzAbyq"
      }
    },
    {
      "cell_type": "code",
      "source": [
        "!wget https://dl.fbaipublicfiles.com/arrival/dictionaries/en-de.txt"
      ],
      "metadata": {
        "collapsed": true,
        "id": "er7DPSxbgP4c",
        "colab": {
          "base_uri": "https://localhost:8080/"
        },
        "outputId": "5d6c815f-fd86-4684-e306-57496dbe056f"
      },
      "execution_count": null,
      "outputs": [
        {
          "output_type": "stream",
          "name": "stdout",
          "text": [
            "--2025-01-19 14:18:58--  https://dl.fbaipublicfiles.com/arrival/dictionaries/en-de.txt\n",
            "Resolving dl.fbaipublicfiles.com (dl.fbaipublicfiles.com)... 13.226.210.78, 13.226.210.111, 13.226.210.25, ...\n",
            "Connecting to dl.fbaipublicfiles.com (dl.fbaipublicfiles.com)|13.226.210.78|:443... connected.\n",
            "HTTP request sent, awaiting response... 200 OK\n",
            "Length: 1742131 (1.7M) [text/x-c++]\n",
            "Saving to: ‘en-de.txt’\n",
            "\n",
            "en-de.txt           100%[===================>]   1.66M  --.-KB/s    in 0.1s    \n",
            "\n",
            "2025-01-19 14:18:59 (16.0 MB/s) - ‘en-de.txt’ saved [1742131/1742131]\n",
            "\n"
          ]
        }
      ]
    },
    {
      "cell_type": "markdown",
      "source": [
        "### Creating a bilingual word list\n",
        "\n",
        "As a next step, we will create a bilingual word list from the donwloaded text file.\n",
        "\n",
        "👋 ⚒ Create a list of tuples `[(en_word1, de_word1), (en_word2, de_word2),...]`from the downloaded text file in the following code cell. To complete this task, please complement the provided function `load_bilingual_word_list` where it says `Your code here`.\n",
        "\n",
        "For English-German, the first ten tuples of the list look like this:\n",
        "\n",
        "```\n",
        "[('the', 'die'), ('the', 'der'), ('the', 'dem'), ('the', 'den'), ('the', 'das'), ('and', 'sowie'), ('and', 'und'), ('was', 'war'), ('was', 'wurde'), ('for', 'für')]\n",
        "```\n",
        "\n"
      ],
      "metadata": {
        "id": "UT-WD8SmAvkm"
      }
    },
    {
      "cell_type": "code",
      "source": [
        "'''\n",
        "Create a list of tuples that contain word translations\n",
        "\n",
        "Parameters:\n",
        "Text file with one bilingual word pair per line\n",
        "\n",
        "Returns:\n",
        "A list of tuples that each contains one bilingual word pair\n",
        "'''\n",
        "def load_bilingual_word_list(file_path):\n",
        "    bilingual_dict = []\n",
        "    with open(file_path, 'r', encoding='utf-8') as f:\n",
        "    # Your code here\n",
        "      for line in f:\n",
        "        en_de_pair = line.strip().split()\n",
        "        en_word = en_de_pair[0]\n",
        "        de_word = en_de_pair[1]\n",
        "        bilingual_dict.append((en_word, de_word))\n",
        "\n",
        "    return bilingual_dict\n",
        "\n",
        "# Load English-German word pairs\n",
        "# --> parses the dictionary into a list of tuples, where each tuple contains a word in English and its German translation\n",
        "en_de_pairs = load_bilingual_word_list('en-de.txt')\n",
        "\n",
        "print(en_de_pairs[:10])"
      ],
      "metadata": {
        "id": "snp8ndm5gZEa",
        "colab": {
          "base_uri": "https://localhost:8080/"
        },
        "outputId": "c17eee80-65ff-4d8a-c645-064cc6a0e89a"
      },
      "execution_count": null,
      "outputs": [
        {
          "output_type": "stream",
          "name": "stdout",
          "text": [
            "[('the', 'die'), ('the', 'der'), ('the', 'dem'), ('the', 'den'), ('the', 'das'), ('and', 'sowie'), ('and', 'und'), ('was', 'war'), ('was', 'wurde'), ('for', 'für')]\n"
          ]
        }
      ]
    },
    {
      "cell_type": "markdown",
      "source": [
        "### Getting the Embeddings for our Word List\n",
        "\n",
        "As a next step, we need to see which words from the word list have a vector representation in the embedding space for both languages and create a list of corresponding embeddings for both languages.\n"
      ],
      "metadata": {
        "id": "wCujQTNRLHFh"
      }
    },
    {
      "cell_type": "code",
      "source": [
        "import numpy as np\n",
        "\n",
        "'''\n",
        "Function to create a list of word embeddings that is parallel to a bilingual list of words\n",
        "\n",
        "Parameters:\n",
        "Bilingual list of words, embeddings in the first language, embeddings in the second language\n",
        "\n",
        "Returns:\n",
        "Two numpy arrays of embeddings that correspond two the bilingual word list\n",
        "'''\n",
        "def extract_word_embeddings(bilingual_pairs, en_embeddings, de_embeddings):\n",
        "    en_vecs = []\n",
        "    de_vecs = []\n",
        "\n",
        "    for en_word, de_word in bilingual_pairs:\n",
        "        if en_word in en_embeddings and de_word in de_embeddings:\n",
        "            en_vecs.append(en_embeddings[en_word])\n",
        "            de_vecs.append(de_embeddings[de_word])\n",
        "\n",
        "    # Convert lists to numpy arrays\n",
        "    en_vecs = np.array(en_vecs)\n",
        "    de_vecs = np.array(de_vecs)\n",
        "\n",
        "    return en_vecs, de_vecs\n",
        "\n",
        "# Extract English and German embeddings for the bilingual lexicon\n",
        "# --> it will ignore word pairs if the word is missing from the embeddings\n",
        "en_vecs, de_vecs = extract_word_embeddings(en_de_pairs, en_embeddings, de_embeddings)\n",
        "\n",
        "print(f\"Extracted {en_vecs.shape[0]} aligned word vectors.\")"
      ],
      "metadata": {
        "id": "ei3DaO3mgnX5",
        "colab": {
          "base_uri": "https://localhost:8080/"
        },
        "outputId": "fd110858-5664-42aa-da50-b354d411a0c0"
      },
      "execution_count": null,
      "outputs": [
        {
          "output_type": "stream",
          "name": "stdout",
          "text": [
            "Extracted 22546 aligned word vectors.\n"
          ]
        }
      ]
    },
    {
      "cell_type": "markdown",
      "source": [
        "-----------\n",
        "## **Embedding Alignment**\n",
        "\n",
        "We will now use the dictionary and embeddings to align the two vector spaces. The English vector space will be aligned to the German vector space using the [Procrustes](https://en.wikipedia.org/wiki/Orthogonal_Procrustes_problem) alignment method.\n",
        "\n",
        "Given two matrices, Procrustes finds an orthogonal matrix which most closely maps one input matrix to the other. As a first step, we need to compute this orthogonal transformation matrix.  \n",
        "\n"
      ],
      "metadata": {
        "id": "fZ8nhE-4LXNK"
      }
    },
    {
      "cell_type": "code",
      "source": [
        "\"\"\"\n",
        "Function to perform orthogonal Procrustes alignment to learn a mapping from X to Y.\n",
        "\n",
        "Parameters:\n",
        "X (numpy array): Source language word embeddings (English)\n",
        "Y (numpy array): Target language word embeddings (German)\n",
        "\n",
        "Returns:\n",
        "W (numpy array): Orthogonal transformation matrix\n",
        "\"\"\"\n",
        "def orthogonal_procrustes(X, Y):\n",
        "    X = X / np.linalg.norm(X, axis=1, keepdims=True)\n",
        "    Y = Y / np.linalg.norm(Y, axis=1, keepdims=True)\n",
        "\n",
        "    # Compute matrix product of X^T and Y\n",
        "    M = np.dot(X.T, Y)\n",
        "\n",
        "    # Perform Singular Value Decomposition (SVD) on the matrix M\n",
        "    U, _, Vt = np.linalg.svd(M)\n",
        "\n",
        "    # Compute the orthogonal transformation matrix W\n",
        "    W = np.dot(U, Vt)\n",
        "\n",
        "    return W\n",
        "\n",
        "W = orthogonal_procrustes(en_vecs, de_vecs)\n",
        "\n",
        "print(\"Orthogonal mapping matrix learned.\")\n"
      ],
      "metadata": {
        "colab": {
          "base_uri": "https://localhost:8080/"
        },
        "id": "mmA3RxaSg3-C",
        "outputId": "9e1c9100-f9b8-4955-bf77-6bdcb4d44a3f"
      },
      "execution_count": null,
      "outputs": [
        {
          "output_type": "stream",
          "name": "stdout",
          "text": [
            "Orthogonal mapping matrix learned.\n"
          ]
        }
      ]
    },
    {
      "cell_type": "markdown",
      "source": [
        "In a second step, the obtained matrix is used to learn an orthogonal mapping of the English vector space to approximate it to the German vector space. Here we can transform the entire vector space of 100,000 embeddings."
      ],
      "metadata": {
        "id": "YINE8wlfIbk1"
      }
    },
    {
      "cell_type": "code",
      "source": [
        "\"\"\"\n",
        "Apply the learned orthogonal mapping to the source language embeddings.\n",
        "\n",
        "Parameters:\n",
        "embeddings (dict): Source language embeddings (English)\n",
        "W (numpy array): Orthogonal transformation matrix\n",
        "\n",
        "Returns:\n",
        "mapped_embeddings (dict): Transformed embeddings\n",
        "\"\"\"\n",
        "def apply_mapping(embeddings, W):\n",
        "    mapped_embeddings = {}\n",
        "    for word, vec in embeddings.items():\n",
        "        mapped_vec = np.dot(vec, W)\n",
        "        # Normalize the mapped vector\n",
        "        mapped_vec = mapped_vec / np.linalg.norm(mapped_vec)\n",
        "        mapped_embeddings[word] = mapped_vec\n",
        "    return mapped_embeddings\n",
        "\n",
        "# --> applies the learned transformation matrix W to all English embeddings\n",
        "aligned_en_embeddings = apply_mapping(en_embeddings, W)\n",
        "\n",
        "print(f\"Aligned {len(aligned_en_embeddings)} English embeddings into the German space.\")\n"
      ],
      "metadata": {
        "colab": {
          "base_uri": "https://localhost:8080/"
        },
        "id": "NjogY41Vg-CC",
        "outputId": "f8b96611-1a03-4c0d-b7a3-4601098220ef"
      },
      "execution_count": null,
      "outputs": [
        {
          "output_type": "stream",
          "name": "stdout",
          "text": [
            "Aligned 100000 English embeddings into the German space.\n"
          ]
        }
      ]
    },
    {
      "cell_type": "markdown",
      "source": [
        "-----------\n",
        "## **Evaluation**\n",
        "\n",
        "In this part, you will explore two different tasks for evaluating the final vector space:\n",
        "\n",
        "\n",
        "1.   Word Translation\n",
        "2.   Cross-Lingual Analogy Completion\n",
        "\n"
      ],
      "metadata": {
        "id": "Lr2QCywEBMUk"
      }
    },
    {
      "cell_type": "markdown",
      "source": [
        "### Word Translation\n",
        "\n",
        "We will now use the bilingual word list downloaded from MUSE to evaluate the ability of our newly created aligned embedding space to translate words from English to German.\n",
        "\n",
        "A function that takes an English word as input and ouputs the nearest neighors of the German vector space is already provided for your convenience."
      ],
      "metadata": {
        "id": "nTo8Ugi-KGAQ"
      }
    },
    {
      "cell_type": "code",
      "source": [
        "from sklearn.metrics.pairwise import cosine_similarity\n",
        "import numpy as np\n",
        "\n",
        "def get_nn(word, aligned_en_embeddings, de_embeddings, top_k):\n",
        "    # print(\"Nearest neighbors of \\\"%s\\\":\" % word)\n",
        "    en_vec = aligned_en_embeddings[word]\n",
        "    de_words = list(de_embeddings.keys())\n",
        "    de_vecs = np.array(list(de_embeddings.values()))\n",
        "\n",
        "    # Compute cosine similarity between the English word vector and all German word vectors\n",
        "    en_vec = en_vec / np.linalg.norm(en_vec)\n",
        "    de_vecs_norm = de_vecs / np.linalg.norm(de_vecs, axis=1, keepdims=True)\n",
        "    similarities = cosine_similarity([en_vec], de_vecs_norm).flatten()\n",
        "\n",
        "    # Get top_k most similar German words\n",
        "    nearest_idxs = similarities.argsort()[-top_k:][::-1]\n",
        "    nearest_words = [de_words[i] for i in nearest_idxs]\n",
        "\n",
        "    return nearest_words\n",
        "\n",
        "en_word = 'the'\n",
        "nearest_neighbors = get_nn(en_word, aligned_en_embeddings, de_embeddings, 5)\n",
        "print(nearest_neighbors)"
      ],
      "metadata": {
        "id": "p63UvUddLKWG",
        "colab": {
          "base_uri": "https://localhost:8080/"
        },
        "outputId": "be257f46-d933-465c-91b2-bc6d3d45c641"
      },
      "execution_count": null,
      "outputs": [
        {
          "output_type": "stream",
          "name": "stdout",
          "text": [
            "['der', 'die', 'den', 'dem', 'besagten']\n"
          ]
        }
      ]
    },
    {
      "cell_type": "markdown",
      "source": [
        "👋 ⚒ Use the already downloaded bilingual word list to evaluate the ability of our aligned vector space to translate from English to German. The output of this task should be the **accuracy** calculated on **1000 words** from the word list, i.e., how many of the first 1000 English words result in five German neighbors that correspond to the German translation from the MUSE word list.\n",
        "\n",
        "Use the provided function `get_nn` to obtain the *k* nearest words in the vector space in German, given an English input word.\n"
      ],
      "metadata": {
        "id": "zagwMc7uNqmL"
      }
    },
    {
      "cell_type": "code",
      "source": [
        "# Your code here\n",
        "def evaluate_translation_accuracy(en_de_pairs, aligned_en_embeddings, de_embeddings, num_words=1000, top_k=5):\n",
        "    correct_translations = 0\n",
        "    total_evaluated_words = 0  # A counter for evaluated words\n",
        "\n",
        "    for i in range(min(num_words, len(en_de_pairs))):\n",
        "        en_word, de_word = en_de_pairs[i]\n",
        "        if en_word in aligned_en_embeddings:  # Check if word is in embeddings\n",
        "            nearest_neighbors = get_nn(en_word, aligned_en_embeddings, de_embeddings, top_k)\n",
        "            if de_word in nearest_neighbors:\n",
        "                correct_translations += 1\n",
        "            total_evaluated_words += 1  # Increment counter if word was evaluated\n",
        "    accuracy = correct_translations / total_evaluated_words if total_evaluated_words else 0  # Avoid division by zero\n",
        "    return accuracy\n",
        "\n",
        "accuracy = evaluate_translation_accuracy(en_de_pairs, aligned_en_embeddings, de_embeddings, num_words=1000, top_k=5)\n",
        "print(f\"Translation accuracy: {accuracy}\")"
      ],
      "metadata": {
        "id": "6pb9wd7HOUR5",
        "colab": {
          "base_uri": "https://localhost:8080/"
        },
        "collapsed": true,
        "outputId": "6adc8fdb-53e5-4095-ab9f-24f6c4d8b2bf"
      },
      "execution_count": null,
      "outputs": [
        {
          "output_type": "stream",
          "name": "stdout",
          "text": [
            "Translation accuracy: 0.43743743743743746\n"
          ]
        }
      ]
    },
    {
      "cell_type": "markdown",
      "source": [
        "### Cross-Lingual Analogy Completion\n",
        "\n",
        "An analogy compares two related pairs of words, e.g. *man is to woman as king is to queen*. This task can be extended to use analogies for translation, e.g. *man is to woman as Mann ist zu Frau*.\n",
        "\n",
        "\n",
        "👋 ⚒ Create **twenty** examples of crosslingual analogies and see whether the aligned vector space is able to correctly complete analogies across languages, e.g. positive=(queen, König), negative=(king). You can use examples from the analogy text file in GitHub for this purpose.\n",
        "\n",
        "Hints:\n",
        "\n",
        "\n",
        "*   Multilingual Analogies: To create the examples, all you need is a translation of an existing analogy. You can use the already loaded bilingual word list to obtain the translations and the existing analogy list (anlogies.txt on Github) to obtain analogies.\n",
        "*   Implementation: In the code below, you only need to change the embeddings to the German embeddings for `c` and provide the function with the German embeddings."
      ],
      "metadata": {
        "id": "Xj24LdO-Omrf"
      }
    },
    {
      "cell_type": "code",
      "source": [
        "from sklearn.metrics.pairwise import cosine_similarity\n",
        "import numpy as np\n",
        "\n",
        "def norm(vec):\n",
        "  return vec / np.linalg.norm(vec)\n",
        "\n",
        "def get_target_words(embeddings, vec_a, vec_b, vec_c, top_k):\n",
        "    words = list(embeddings.keys())\n",
        "    vecs = np.array(list(embeddings.values()))\n",
        "\n",
        "    # Compute analogy based on input vectors b+c-a (woman+king-man)\n",
        "    positive = norm(vec_b+vec_c)\n",
        "    target_vec = norm(positive - vec_a)\n",
        "    vecs_norm = vecs / np.linalg.norm(vecs, axis=1, keepdims=True)\n",
        "    similarities = cosine_similarity([target_vec], vecs_norm).flatten()\n",
        "\n",
        "    # Get top_k most similar words for the retrieved result vector d\n",
        "    nearest_idxs = similarities.argsort()[-top_k:][::-1]\n",
        "    nearest_words = [words[i] for i in nearest_idxs]\n",
        "\n",
        "    return nearest_words\n",
        "\n",
        "vec_a = norm(aligned_en_embeddings[\"man\"])\n",
        "vec_b = norm(aligned_en_embeddings[\"woman\"])\n",
        "vec_c = norm(aligned_en_embeddings[\"king\"])\n",
        "\n",
        "nearest_neighbors = get_target_words(aligned_en_embeddings, vec_a, vec_b, vec_c, 5)\n",
        "print(nearest_neighbors)"
      ],
      "metadata": {
        "id": "S40JvI6iOzMA",
        "colab": {
          "base_uri": "https://localhost:8080/"
        },
        "outputId": "9b2221e3-8cfa-49b4-9aca-4c84bde150e8"
      },
      "execution_count": null,
      "outputs": [
        {
          "output_type": "stream",
          "name": "stdout",
          "text": [
            "['queen', 'king', 'Queen', 'queens', 'royal']\n"
          ]
        }
      ]
    },
    {
      "cell_type": "code",
      "source": [
        "# --> Changed embedding to the German embedding for c\n",
        "from sklearn.metrics.pairwise import cosine_similarity\n",
        "import numpy as np\n",
        "\n",
        "def norm(vec):\n",
        "  return vec / np.linalg.norm(vec)\n",
        "\n",
        "def get_target_words(embeddings, vec_a, vec_b, vec_c, top_k):\n",
        "    words = list(embeddings.keys())\n",
        "    vecs = np.array(list(embeddings.values()))\n",
        "\n",
        "    # Compute analogy based on input vectors b+c-a (woman+king-man)\n",
        "    positive = norm(vec_b + vec_c)\n",
        "    target_vec = norm(positive - vec_a)\n",
        "    vecs_norm = vecs / np.linalg.norm(vecs, axis=1, keepdims=True)\n",
        "    similarities = cosine_similarity([target_vec], vecs_norm).flatten()\n",
        "\n",
        "    # Get top_k most similar words for the retrieved result vector d\n",
        "    nearest_idxs = similarities.argsort()[-top_k:][::-1]\n",
        "    nearest_words = [words[i] for i in nearest_idxs]\n",
        "\n",
        "    return nearest_words\n",
        "\n",
        "# Example Usage with German Embeddings for 'c'\n",
        "vec_a = norm(aligned_en_embeddings[\"man\"])  # English embedding for 'man'\n",
        "vec_b = norm(aligned_en_embeddings[\"woman\"]) # English embedding for 'woman'\n",
        "vec_c = norm(de_embeddings[\"König\"])       # German embedding for 'king'\n",
        "\n",
        "\n",
        "nearest_neighbors = get_target_words(de_embeddings, vec_a, vec_b, vec_c, 5)  # Using German embeddings\n",
        "print(nearest_neighbors)"
      ],
      "metadata": {
        "colab": {
          "base_uri": "https://localhost:8080/"
        },
        "id": "VuEgfOUZDP99",
        "outputId": "7d08b31d-0083-4732-a019-27ef2a990b13"
      },
      "execution_count": null,
      "outputs": [
        {
          "output_type": "stream",
          "name": "stdout",
          "text": [
            "['König', 'Königin', 'Prinzessin', 'Prinzessinnen', 'Königinnen']\n"
          ]
        }
      ]
    },
    {
      "cell_type": "code",
      "source": [
        "def return_crossling_analogy(a, b, c) -> list:\n",
        "    # Check existence of words in embeddings\n",
        "    if a not in aligned_en_embeddings or b not in aligned_en_embeddings or c not in de_embeddings:\n",
        "      print(f\"Error: One or more words are missing from the embeddings. ({a}, {b}, {c})\")\n",
        "\n",
        "    # Compute analogy vector\n",
        "    vec_a = norm(aligned_en_embeddings[a])\n",
        "    vec_b = norm(aligned_en_embeddings[b])\n",
        "    vec_c = norm(de_embeddings[c])\n",
        "\n",
        "    # Find nearest neighbors in the German embedding space\n",
        "    nearest_neighbors = get_target_words(de_embeddings, vec_a, vec_b, vec_c, top_k=5)\n",
        "\n",
        "    # Print and return results\n",
        "    print(f\"Analogy: {a} {b} - {c} ?\")\n",
        "    print(f\"Nearest neighbors: {nearest_neighbors}\\n\")"
      ],
      "metadata": {
        "id": "1m733crCKqLk"
      },
      "execution_count": null,
      "outputs": []
    },
    {
      "cell_type": "code",
      "source": [
        "return_crossling_analogy(\"cat\", \"kitten\", \"Hund\")\n",
        "return_crossling_analogy(\"pencil\", \"pen\", \"book\")\n",
        "return_crossling_analogy(\"father\", \"mother\", \"Opa\")\n",
        "return_crossling_analogy(\"dad\", \"mom\", \"Junge\")\n",
        "return_crossling_analogy(\"happy\", \"sad\", \"langsam\")\n",
        "\n",
        "return_crossling_analogy(\"possible\", \"impossible\", \"gewohnt\")\n",
        "return_crossling_analogy(\"cold\", \"colder\", \"cool\")\n",
        "return_crossling_analogy(\"cheap\", \"cheaper\", \"warm\")\n",
        "return_crossling_analogy(\"Croatia\", \"Croatian\", \"Schweden\")\n",
        "return_crossling_analogy(\"England\", \"English\", \"Norwegen\")\n",
        "\n",
        "return_crossling_analogy(\"pizza\", \"Italy\", \"Sushi\")\n",
        "return_crossling_analogy(\"freedom\", \"choice\", \"Liebe\")\n",
        "return_crossling_analogy(\"dragon\", \"fire\", \"Meerjungfrau\")\n",
        "return_crossling_analogy(\"computer\", \"programmer\", \"Hammer\")\n",
        "return_crossling_analogy(\"fire\", \"hot\", \"Eis\")\n",
        "\n",
        "return_crossling_analogy(\"lion\", \"bravery\", \"Fuchs\")\n",
        "return_crossling_analogy(\"wood\", \"furniture\", \"Baumwolle\")\n",
        "return_crossling_analogy(\"happiness\", \"smile\", \"Trauer\")\n",
        "return_crossling_analogy(\"Earth\", \"Moon\", \"Jupiter\")\n",
        "return_crossling_analogy(\"electricity\", \"Edison\", \"Schwerkraft\")"
      ],
      "metadata": {
        "colab": {
          "base_uri": "https://localhost:8080/"
        },
        "id": "FQJspWYLLMXn",
        "outputId": "fc918a91-a08a-4850-872b-a361cb156998"
      },
      "execution_count": null,
      "outputs": [
        {
          "output_type": "stream",
          "name": "stdout",
          "text": [
            "Analogy: cat kitten - Hund ?\n",
            "Nearest neighbors: ['Hund', 'Welpen', 'Kind', 'Vierbeiner', 'Welpe']\n",
            "\n",
            "Analogy: pencil pen - book ?\n",
            "Nearest neighbors: ['book', 'Book', 'books', 'experience', 'address']\n",
            "\n",
            "Analogy: father mother - Opa ?\n",
            "Nearest neighbors: ['Oma', 'Opa', 'Omas', 'Omi', 'Mutti']\n",
            "\n",
            "Analogy: dad mom - Junge ?\n",
            "Nearest neighbors: ['Junge', 'Junger', 'junge', 'Mädchen', 'Jungen']\n",
            "\n",
            "Analogy: happy sad - langsam ?\n",
            "Nearest neighbors: ['langsam', 'allmählich', 'Langsam', 'zunehmend', 'zusehends']\n",
            "\n",
            "Analogy: possible impossible - gewohnt ?\n",
            "Nearest neighbors: ['gewohnt', 'heruntergekommen', 'ungewohnt', 'brilliert', 'eigenwillig']\n",
            "\n",
            "Analogy: cold colder - cool ?\n",
            "Nearest neighbors: ['cool', 'cooler', 'interessant', 'toll', 'stylish']\n",
            "\n",
            "Analogy: cheap cheaper - warm ?\n",
            "Nearest neighbors: ['wärmer', 'warm', 'kälter', 'kühler', 'erwärmt']\n",
            "\n",
            "Analogy: Croatia Croatian - Schweden ?\n",
            "Nearest neighbors: ['schwedischen', 'schwedische', 'Schwedischen', 'Schwedische', 'Schweden']\n",
            "\n",
            "Analogy: England English - Norwegen ?\n",
            "Nearest neighbors: ['Norwegisch', 'Norwegen', 'norwegisch', 'Schwedisch', 'Isländisch']\n",
            "\n",
            "Analogy: pizza Italy - Sushi ?\n",
            "Nearest neighbors: ['Japan', 'Osaka', 'Nara', 'Asien', 'Tokio']\n",
            "\n",
            "Analogy: freedom choice - Liebe ?\n",
            "Nearest neighbors: ['Liebe', 'Liebste', 'ausgesucht', '.Liebe', 'Tipp']\n",
            "\n",
            "Analogy: dragon fire - Meerjungfrau ?\n",
            "Nearest neighbors: ['Feuerwehr', 'Meerjungfrau', 'Bränden', 'Brandbekämpfung', 'Küstenwache']\n",
            "\n",
            "Analogy: computer programmer - Hammer ?\n",
            "Nearest neighbors: ['Hammer', 'Knaller', 'Hammers', 'hammer', 'Kracher']\n",
            "\n",
            "Analogy: fire hot - Eis ?\n",
            "Nearest neighbors: ['Eis', 'Eiscreme', 'Schokolade', 'heiß', 'Schoki']\n",
            "\n",
            "Analogy: lion bravery - Fuchs ?\n",
            "Nearest neighbors: ['Stöhr', 'Ruppert', 'Hofmann', 'Dieckmann', 'Brunner']\n",
            "\n",
            "Analogy: wood furniture - Baumwolle ?\n",
            "Nearest neighbors: ['Baumwolle', 'Unterwäsche', 'Bettwäsche', 'Sportbekleidung', 'Microfaser']\n",
            "\n",
            "Analogy: happiness smile - Trauer ?\n",
            "Nearest neighbors: ['Trauer', 'grinsen', 'Trauerfeier', 'Gesicht', 'Grinsen']\n",
            "\n",
            "Analogy: Earth Moon - Jupiter ?\n",
            "Nearest neighbors: ['Jupiter', 'Juno', 'Moon', 'Pluto', 'Rosie']\n",
            "\n",
            "Analogy: electricity Edison - Schwerkraft ?\n",
            "Nearest neighbors: ['Schwerkraft', 'Trivia', 'Genies', 'Spock', 'Gravitation']\n",
            "\n"
          ]
        }
      ]
    }
  ]
}